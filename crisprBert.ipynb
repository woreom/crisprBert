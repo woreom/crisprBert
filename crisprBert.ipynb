{
 "cells": [
  {
   "cell_type": "markdown",
   "id": "fd836041",
   "metadata": {},
   "source": [
    "# Find dataset"
   ]
  },
  {
   "cell_type": "code",
   "execution_count": 1,
   "id": "a82ab964",
   "metadata": {},
   "outputs": [],
   "source": [
    "# in this notebook we'll only get one of the files (the Oscar one) for the sake of simplicity and performance\n",
    "# !wget -c https://cdn-datasets.huggingface.co/EsperBERTo/data/oscar.eo.txt"
   ]
  },
  {
   "cell_type": "code",
   "execution_count": 2,
   "id": "370aedeb",
   "metadata": {},
   "outputs": [],
   "source": [
    "# import pandas as pd\n",
    "# df = pd.read_csv(\"../dnabert/examples/unprocessed_data/unlabeled_sgrna_fixed.csv\")\n",
    "\n",
    "# with open(\"../dnabert/examples/unprocessed_data/unlabeled_sgrna_fixed.txt\",\"w\") as f:\n",
    "#     for i in df[\"sgRNA\"]:\n",
    "#         f.write(i+\"\\n\")\n",
    "        \n"
   ]
  },
  {
   "cell_type": "code",
   "execution_count": 3,
   "id": "02b3da89",
   "metadata": {},
   "outputs": [],
   "source": [
    "# !cp ../dnabert/examples/unprocessed_data/unlabeled_sgrna_fixed.txt ."
   ]
  },
  {
   "cell_type": "code",
   "execution_count": 4,
   "id": "68b279b0",
   "metadata": {},
   "outputs": [],
   "source": [
    "# from pathlib import Path\n",
    "\n",
    "# from tokenizers import ByteLevelBPETokenizer\n",
    "\n",
    "# paths = [str(x) for x in Path(\".\").glob(\"**/*.txt\")]\n",
    "\n",
    "\n",
    "# print(paths)\n",
    "\n",
    "\n",
    "# # Initialize a tokenizer\n",
    "# tokenizer = ByteLevelBPETokenizer()\n",
    "\n",
    "# # Customize training\n",
    "# tokenizer.train(files=paths, vocab_size=52_000, min_frequency=2, special_tokens=[\n",
    "#     \"<s>\",\n",
    "#     \"<pad>\",\n",
    "#     \"</s>\",\n",
    "#     \"<unk>\",\n",
    "#     \"<mask>\",\n",
    "# ])"
   ]
  },
  {
   "cell_type": "code",
   "execution_count": 5,
   "id": "a54e8827",
   "metadata": {},
   "outputs": [],
   "source": [
    "# tokenizer.save_model(\"/mnt/d/M3/Projects/BCB/crisprBert/Models/crisprBert\")"
   ]
  },
  {
   "cell_type": "code",
   "execution_count": 6,
   "id": "b8d3a9ae",
   "metadata": {},
   "outputs": [],
   "source": [
    "from tokenizers.implementations import ByteLevelBPETokenizer\n",
    "from tokenizers.processors import BertProcessing\n",
    "\n",
    "\n",
    "tokenizer = ByteLevelBPETokenizer(\n",
    "    \"/mnt/d/M3/Projects/BCB/crisprBert/Models/crisprBert/vocab.json\",\n",
    "    \"/mnt/d/M3/Projects/BCB/crisprBert/Models/crisprBert/merges.txt\",\n",
    ")"
   ]
  },
  {
   "cell_type": "code",
   "execution_count": 7,
   "id": "495abdd8",
   "metadata": {},
   "outputs": [],
   "source": [
    "tokenizer._tokenizer.post_processor = BertProcessing(\n",
    "    (\"</s>\", tokenizer.token_to_id(\"</s>\")),\n",
    "    (\"<s>\", tokenizer.token_to_id(\"<s>\")),\n",
    ")\n",
    "tokenizer.enable_truncation(max_length=512)"
   ]
  },
  {
   "cell_type": "code",
   "execution_count": 8,
   "id": "e2015d86",
   "metadata": {},
   "outputs": [
    {
     "data": {
      "text/plain": [
       "Encoding(num_tokens=6, attributes=[ids, type_ids, tokens, offsets, attention_mask, special_tokens_mask, overflowing])"
      ]
     },
     "execution_count": 8,
     "metadata": {},
     "output_type": "execute_result"
    }
   ],
   "source": [
    "tokenizer.encode(\"CGCCGCCGCTTTCGGTGATGAGG\")"
   ]
  },
  {
   "cell_type": "code",
   "execution_count": 9,
   "id": "df624c66",
   "metadata": {},
   "outputs": [
    {
     "data": {
      "text/plain": [
       "['<s>', 'CGCCGCC', 'GCTTT', 'CGGT', 'GATGAGG', '</s>']"
      ]
     },
     "execution_count": 9,
     "metadata": {},
     "output_type": "execute_result"
    }
   ],
   "source": [
    "tokenizer.encode(\"CGCCGCCGCTTTCGGTGATGAGG\").tokens"
   ]
  },
  {
   "cell_type": "code",
   "execution_count": 10,
   "id": "54085712",
   "metadata": {},
   "outputs": [
    {
     "data": {
      "text/plain": [
       "True"
      ]
     },
     "execution_count": 10,
     "metadata": {},
     "output_type": "execute_result"
    }
   ],
   "source": [
    "import torch\n",
    "torch.cuda.is_available()"
   ]
  },
  {
   "cell_type": "code",
   "execution_count": 11,
   "id": "2da0ac90",
   "metadata": {},
   "outputs": [],
   "source": [
    "from transformers import RobertaConfig\n",
    "\n",
    "config = RobertaConfig(\n",
    "    vocab_size=52_000,\n",
    "    max_position_embeddings=514,\n",
    "    num_attention_heads=12,\n",
    "    num_hidden_layers=6,\n",
    "    type_vocab_size=1,\n",
    ")\n",
    "config.to_json_file(\"/mnt/d/M3/Projects/BCB/crisprBert/Models/crisprBert/config.json\")"
   ]
  },
  {
   "cell_type": "code",
   "execution_count": 12,
   "id": "b5801d47",
   "metadata": {},
   "outputs": [],
   "source": [
    "from transformers import RobertaTokenizerFast\n",
    "\n",
    "tokenizer = RobertaTokenizerFast.from_pretrained(\"/mnt/d/M3/Projects/BCB/crisprBert/Models/crisprBert\", max_len=512)"
   ]
  },
  {
   "cell_type": "code",
   "execution_count": 13,
   "id": "f7804049",
   "metadata": {},
   "outputs": [],
   "source": [
    "from transformers import RobertaForMaskedLM\n",
    "\n",
    "model = RobertaForMaskedLM(config=config)"
   ]
  },
  {
   "cell_type": "code",
   "execution_count": 14,
   "id": "cea1410c",
   "metadata": {},
   "outputs": [
    {
     "data": {
      "text/plain": [
       "83504416"
      ]
     },
     "execution_count": 14,
     "metadata": {},
     "output_type": "execute_result"
    }
   ],
   "source": [
    "model.num_parameters()\n"
   ]
  },
  {
   "cell_type": "code",
   "execution_count": 15,
   "id": "a1838207",
   "metadata": {},
   "outputs": [
    {
     "name": "stderr",
     "output_type": "stream",
     "text": [
      "/home/woreom/anaconda3/envs/crisprBert/lib/python3.8/site-packages/transformers/data/datasets/language_modeling.py:121: FutureWarning: This dataset will be removed from the library soon, preprocessing should be handled with the 🤗 Datasets library. You can have a look at this example script for pointers: https://github.com/huggingface/transformers/blob/master/examples/pytorch/language-modeling/run_mlm.py\n",
      "  warnings.warn(\n"
     ]
    }
   ],
   "source": [
    "from transformers import LineByLineTextDataset\n",
    "\n",
    "dataset = LineByLineTextDataset(\n",
    "    tokenizer=tokenizer,\n",
    "    file_path=\"./unlabeled_sgrna_fixed.txt\",\n",
    "    block_size=128,\n",
    ")"
   ]
  },
  {
   "cell_type": "code",
   "execution_count": 16,
   "id": "56947601",
   "metadata": {},
   "outputs": [],
   "source": [
    "from transformers import DataCollatorForLanguageModeling\n",
    "\n",
    "data_collator = DataCollatorForLanguageModeling(\n",
    "    tokenizer=tokenizer, mlm=True, mlm_probability=0.15\n",
    ")"
   ]
  },
  {
   "cell_type": "code",
   "execution_count": 19,
   "id": "f40b99cd",
   "metadata": {},
   "outputs": [],
   "source": [
    "from transformers import Trainer, TrainingArguments\n",
    "\n",
    "training_args = TrainingArguments(\n",
    "    output_dir=\"Models/crisprBert/\",\n",
    "    overwrite_output_dir=True,\n",
    "    num_train_epochs=50,\n",
    "    per_gpu_train_batch_size=8,\n",
    "    save_steps=10000,\n",
    "    save_total_limit=10,\n",
    "    prediction_loss_only=False, \n",
    "    do_train = True, \n",
    "    do_eval = True,\n",
    "    do_predict = False,\n",
    "    per_gpu_eval_batch_size = 6,\n",
    "    learning_rate = 4e-4,\n",
    "    weight_decay = 0.01, \n",
    "    adam_beta1 = 0.9,\n",
    "    adam_beta2 = 0.98,\n",
    "    adam_epsilon = 1e-6 ,\n",
    "    max_grad_norm =1.0,\n",
    "    logging_dir = \"Models/crisprBert/log.txt\",\n",
    "    logging_first_step = True,\n",
    "    logging_steps =10000,\n",
    "    evaluation_strategy = \"steps\",\n",
    "    logging_nan_inf_filter = False, \n",
    "    fp16 = False, \n",
    "    eval_steps = 10000,  \n",
    "    disable_tqdm = False, \n",
    "    load_best_model_at_end = True, \n",
    "    metric_for_best_model = \"eval_loss\" )\n",
    "\n",
    "trainer = Trainer(\n",
    "    model=model,\n",
    "    args=training_args,\n",
    "    data_collator=data_collator,\n",
    "    train_dataset=dataset,\n",
    ")"
   ]
  },
  {
   "cell_type": "code",
   "execution_count": null,
   "id": "5f28043f",
   "metadata": {},
   "outputs": [
    {
     "name": "stderr",
     "output_type": "stream",
     "text": [
      "Using deprecated `--per_gpu_train_batch_size` argument which will be removed in a future version. Using `--per_device_train_batch_size` is preferred.\n",
      "Using deprecated `--per_gpu_train_batch_size` argument which will be removed in a future version. Using `--per_device_train_batch_size` is preferred.\n",
      "***** Running training *****\n",
      "  Num examples = 1023845\n",
      "  Num Epochs = 50\n",
      "  Instantaneous batch size per device = 8\n",
      "  Total train batch size (w. parallel, distributed & accumulation) = 8\n",
      "  Gradient Accumulation steps = 1\n",
      "  Total optimization steps = 6399050\n"
     ]
    },
    {
     "data": {
      "text/html": [
       "\n",
       "    <div>\n",
       "      \n",
       "      <progress value='3559' max='6399050' style='width:300px; height:20px; vertical-align: middle;'></progress>\n",
       "      [   3559/6399050 05:02 < 150:53:46, 11.77 it/s, Epoch 0.03/50]\n",
       "    </div>\n",
       "    <table border=\"1\" class=\"dataframe\">\n",
       "  <thead>\n",
       "    <tr style=\"text-align: left;\">\n",
       "      <th>Step</th>\n",
       "      <th>Training Loss</th>\n",
       "      <th>Validation Loss</th>\n",
       "    </tr>\n",
       "  </thead>\n",
       "  <tbody>\n",
       "  </tbody>\n",
       "</table><p>"
      ],
      "text/plain": [
       "<IPython.core.display.HTML object>"
      ]
     },
     "metadata": {},
     "output_type": "display_data"
    }
   ],
   "source": [
    "trainer.train()"
   ]
  },
  {
   "cell_type": "code",
   "execution_count": null,
   "id": "2e233673",
   "metadata": {},
   "outputs": [],
   "source": [
    "a = 10_000\n",
    "type(a)"
   ]
  }
 ],
 "metadata": {
  "kernelspec": {
   "display_name": "crisprBert",
   "language": "python",
   "name": "crisprbert"
  },
  "language_info": {
   "codemirror_mode": {
    "name": "ipython",
    "version": 3
   },
   "file_extension": ".py",
   "mimetype": "text/x-python",
   "name": "python",
   "nbconvert_exporter": "python",
   "pygments_lexer": "ipython3",
   "version": "3.8.12"
  }
 },
 "nbformat": 4,
 "nbformat_minor": 5
}
